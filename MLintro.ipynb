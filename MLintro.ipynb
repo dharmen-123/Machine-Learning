{
 "cells": [
  {
   "cell_type": "code",
   "execution_count": null,
   "id": "ab882b6c-9e96-4403-88b4-a7a3ca21d741",
   "metadata": {},
   "outputs": [],
   "source": [
    "# Machine Learning \n",
    "# Types of ML \n",
    "# 1. Supervised Learning \n",
    "# 2. Unsupervised Learning\n",
    "# 3. Semisupervised Learning\n",
    "# 4. Reinforcement Learning\n"
   ]
  }
 ],
 "metadata": {
  "kernelspec": {
   "display_name": "Python 3 (ipykernel)",
   "language": "python",
   "name": "python3"
  },
  "language_info": {
   "codemirror_mode": {
    "name": "ipython",
    "version": 3
   },
   "file_extension": ".py",
   "mimetype": "text/x-python",
   "name": "python",
   "nbconvert_exporter": "python",
   "pygments_lexer": "ipython3",
   "version": "3.12.6"
  }
 },
 "nbformat": 4,
 "nbformat_minor": 5
}
